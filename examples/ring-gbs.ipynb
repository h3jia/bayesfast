{
 "cells": [
  {
   "cell_type": "markdown",
   "metadata": {},
   "source": [
    "# The 64-dim *Ring* example in the [GBS paper](http://proceedings.mlr.press/v118/jia20a.html)"
   ]
  },
  {
   "cell_type": "markdown",
   "metadata": {},
   "source": [
    "*last tested with bayesfast commit 8d6efa1*"
   ]
  },
  {
   "cell_type": "markdown",
   "metadata": {},
   "source": [
    "**(Erratum)** There's a typo in eq 7 of the GBS paper, noted by Eric Chuu in October 2020. The likelihood function should be:\n",
    "\n",
    "$\\ln\\mathcal{L}=-\\frac{(x_n^2+x_1^2-a)^2}{b}\n",
    "-\\sum_{i=1}^{n-1}\\frac{(x_i^2+x_{i+1}^2-a)^2}{b},\n",
    "\\quad a=2,\n",
    "\\quad b=1,\n",
    "\\quad n=64$"
   ]
  },
  {
   "cell_type": "code",
   "execution_count": 1,
   "metadata": {},
   "outputs": [
    {
     "data": {
      "text/plain": [
       "<threadpoolctl.threadpool_limits at 0x2aaaaebc7670>"
      ]
     },
     "execution_count": 1,
     "metadata": {},
     "output_type": "execute_result"
    }
   ],
   "source": [
    "import bayesfast as bf\n",
    "import numpy as np\n",
    "from threadpoolctl import threadpool_limits\n",
    "threadpool_limits(1) # TODO: implement a bayesfast global thread controller"
   ]
  },
  {
   "cell_type": "code",
   "execution_count": 2,
   "metadata": {},
   "outputs": [],
   "source": [
    "D = 64 # number of dims\n",
    "a = 2.\n",
    "b = 1.\n",
    "lower = np.full(D, -5.) # lower bound of the prior\n",
    "upper = np.full(D, 5.) # upper bound of the prior\n",
    "bound = np.array((lower, upper)).T\n",
    "diff = bound[:, 1] - bound[:, 0]\n",
    "const = np.sum(np.log(diff)) # normalization of the flat prior\n",
    "\n",
    "def logp(x):\n",
    "    x2 = x * x\n",
    "    x2s = np.concatenate((x2[..., -1:], x2, x2[..., :1]), axis=-1)\n",
    "    return -np.sum((x2s[..., :-2] + x2s[..., 1:-1] - a)**2 / b, axis=-1) - const\n",
    "\n",
    "def grad(x):\n",
    "    x2 = x * x\n",
    "    x2s = np.concatenate((x2[..., -1:], x2, x2[..., :1]), axis=-1)\n",
    "    return -(2 * (x2s[..., :-2] + x2s[..., 1:-1] - a) / b + \n",
    "             2 * (x2s[..., 1:-1] + x2s[..., 2:] - a) / b) * 2 * x"
   ]
  },
  {
   "cell_type": "code",
   "execution_count": 3,
   "metadata": {},
   "outputs": [],
   "source": [
    "bf.utils.random.set_generator(64) # set up the global random number generator\n",
    "bf.utils.parallel.set_backend(8) # set up the global parallel backend\n",
    "den = bf.DensityLite(logp=logp, grad=grad, input_size=D, input_scales=bound,\n",
    "                     hard_bounds=True)\n",
    "sample_trace = {'n_chain': 8, 'n_iter': 2500, 'n_warmup': 1000}\n",
    "rec = bf.Recipe(density=den, sample={'sample_trace': sample_trace},\n",
    "                post={'evidence_method': 'GBS'})"
   ]
  },
  {
   "cell_type": "code",
   "execution_count": 4,
   "metadata": {},
   "outputs": [
    {
     "name": "stdout",
     "output_type": "stream",
     "text": [
      "\n",
      " *** StaticSample: returning the #0 SampleStep. *** \n",
      "\n"
     ]
    },
    {
     "name": "stderr",
     "output_type": "stream",
     "text": [
      "/global/u2/h/hejia/bayesfast/bayesfast/core/density.py:183: RuntimeWarning:  CHAIN #4 : divide by zero encountered in log\n",
      "  return np.sum(np.log(np.abs(self.to_original_grad(x_trans))),\n",
      "/global/u2/h/hejia/bayesfast/bayesfast/core/density.py:183: RuntimeWarning:  CHAIN #5 : divide by zero encountered in log\n",
      "  return np.sum(np.log(np.abs(self.to_original_grad(x_trans))),\n",
      "/global/u2/h/hejia/bayesfast/bayesfast/core/density.py:992: RuntimeWarning:  CHAIN #4 : divide by zero encountered in true_divide\n",
      "  _grad += self.to_original_grad2(x) / _tog\n",
      "/global/u2/h/hejia/bayesfast/bayesfast/samplers/nuts.py:120: RuntimeWarning:  CHAIN #4 : overflow encountered in exp\n",
      "  p_accept = min(1, np.exp(-energy_change))\n",
      "/global/u2/h/hejia/bayesfast/bayesfast/core/density.py:992: RuntimeWarning:  CHAIN #5 : divide by zero encountered in true_divide\n",
      "  _grad += self.to_original_grad2(x) / _tog\n",
      "/global/u2/h/hejia/bayesfast/bayesfast/core/density.py:183: RuntimeWarning:  CHAIN #6 : divide by zero encountered in log\n",
      "  return np.sum(np.log(np.abs(self.to_original_grad(x_trans))),\n",
      "/global/u2/h/hejia/bayesfast/bayesfast/core/density.py:992: RuntimeWarning:  CHAIN #6 : divide by zero encountered in true_divide\n",
      "  _grad += self.to_original_grad2(x) / _tog\n",
      "/global/u2/h/hejia/bayesfast/bayesfast/samplers/nuts.py:120: RuntimeWarning:  CHAIN #6 : overflow encountered in exp\n",
      "  p_accept = min(1, np.exp(-energy_change))\n",
      "/global/u2/h/hejia/bayesfast/bayesfast/core/density.py:183: RuntimeWarning:  CHAIN #7 : divide by zero encountered in log\n",
      "  return np.sum(np.log(np.abs(self.to_original_grad(x_trans))),\n",
      "/global/u2/h/hejia/bayesfast/bayesfast/core/density.py:992: RuntimeWarning:  CHAIN #7 : divide by zero encountered in true_divide\n",
      "  _grad += self.to_original_grad2(x) / _tog\n",
      "/global/u2/h/hejia/bayesfast/bayesfast/core/density.py:183: RuntimeWarning:  CHAIN #3 : divide by zero encountered in log\n",
      "  return np.sum(np.log(np.abs(self.to_original_grad(x_trans))),\n",
      "/global/u2/h/hejia/bayesfast/bayesfast/core/density.py:992: RuntimeWarning:  CHAIN #3 : divide by zero encountered in true_divide\n",
      "  _grad += self.to_original_grad2(x) / _tog\n",
      "/global/u2/h/hejia/bayesfast/bayesfast/samplers/nuts.py:120: RuntimeWarning:  CHAIN #3 : overflow encountered in exp\n",
      "  p_accept = min(1, np.exp(-energy_change))\n"
     ]
    },
    {
     "name": "stdout",
     "output_type": "stream",
     "text": [
      " CHAIN #3 : sampling proceeding [ 500 / 2500 ], last 500 samples used 8.17 seconds. (warmup)\n",
      " CHAIN #0 : sampling proceeding [ 500 / 2500 ], last 500 samples used 8.48 seconds. (warmup)\n",
      " CHAIN #1 : sampling proceeding [ 500 / 2500 ], last 500 samples used 8.51 seconds. (warmup)\n",
      " CHAIN #2 : sampling proceeding [ 500 / 2500 ], last 500 samples used 8.82 seconds. (warmup)\n",
      " CHAIN #4 : sampling proceeding [ 500 / 2500 ], last 500 samples used 8.98 seconds. (warmup)\n",
      " CHAIN #7 : sampling proceeding [ 500 / 2500 ], last 500 samples used 9.14 seconds. (warmup)\n",
      " CHAIN #5 : sampling proceeding [ 500 / 2500 ], last 500 samples used 9.21 seconds. (warmup)\n",
      " CHAIN #6 : sampling proceeding [ 500 / 2500 ], last 500 samples used 9.73 seconds. (warmup)\n",
      " CHAIN #3 : sampling proceeding [ 1000 / 2500 ], last 500 samples used 7.98 seconds. (warmup)\n",
      " CHAIN #1 : sampling proceeding [ 1000 / 2500 ], last 500 samples used 7.81 seconds. (warmup)\n",
      " CHAIN #0 : sampling proceeding [ 1000 / 2500 ], last 500 samples used 8.26 seconds. (warmup)\n",
      " CHAIN #5 : sampling proceeding [ 1000 / 2500 ], last 500 samples used 8.01 seconds. (warmup)\n",
      " CHAIN #4 : sampling proceeding [ 1000 / 2500 ], last 500 samples used 8.45 seconds. (warmup)\n",
      " CHAIN #2 : sampling proceeding [ 1000 / 2500 ], last 500 samples used 8.82 seconds. (warmup)\n",
      " CHAIN #7 : sampling proceeding [ 1000 / 2500 ], last 500 samples used 8.56 seconds. (warmup)\n",
      " CHAIN #6 : sampling proceeding [ 1000 / 2500 ], last 500 samples used 8.45 seconds. (warmup)\n",
      " CHAIN #3 : sampling proceeding [ 1500 / 2500 ], last 500 samples used 8.03 seconds.\n",
      " CHAIN #1 : sampling proceeding [ 1500 / 2500 ], last 500 samples used 8.09 seconds.\n",
      " CHAIN #4 : sampling proceeding [ 1500 / 2500 ], last 500 samples used 7.44 seconds.\n",
      " CHAIN #0 : sampling proceeding [ 1500 / 2500 ], last 500 samples used 8.18 seconds.\n",
      " CHAIN #2 : sampling proceeding [ 1500 / 2500 ], last 500 samples used 8.31 seconds.\n",
      " CHAIN #5 : sampling proceeding [ 1500 / 2500 ], last 500 samples used 8.92 seconds.\n",
      " CHAIN #7 : sampling proceeding [ 1500 / 2500 ], last 500 samples used 8.60 seconds.\n",
      " CHAIN #6 : sampling proceeding [ 1500 / 2500 ], last 500 samples used 8.52 seconds.\n",
      " CHAIN #3 : sampling proceeding [ 2000 / 2500 ], last 500 samples used 7.61 seconds.\n",
      " CHAIN #1 : sampling proceeding [ 2000 / 2500 ], last 500 samples used 8.05 seconds.\n",
      " CHAIN #4 : sampling proceeding [ 2000 / 2500 ], last 500 samples used 8.27 seconds.\n",
      " CHAIN #0 : sampling proceeding [ 2000 / 2500 ], last 500 samples used 8.55 seconds.\n",
      " CHAIN #2 : sampling proceeding [ 2000 / 2500 ], last 500 samples used 7.70 seconds.\n",
      " CHAIN #5 : sampling proceeding [ 2000 / 2500 ], last 500 samples used 8.01 seconds.\n",
      " CHAIN #7 : sampling proceeding [ 2000 / 2500 ], last 500 samples used 8.26 seconds.\n",
      " CHAIN #6 : sampling proceeding [ 2000 / 2500 ], last 500 samples used 7.92 seconds.\n",
      " CHAIN #3 : sampling finished [ 2500 / 2500 ], obtained 2500 samples in 39.47 seconds.\n",
      " CHAIN #1 : sampling finished [ 2500 / 2500 ], obtained 2500 samples in 39.99 seconds.\n",
      " CHAIN #2 : sampling finished [ 2500 / 2500 ], obtained 2500 samples in 41.59 seconds.\n",
      " CHAIN #4 : sampling finished [ 2500 / 2500 ], obtained 2500 samples in 41.79 seconds.\n",
      " CHAIN #0 : sampling finished [ 2500 / 2500 ], obtained 2500 samples in 42.10 seconds.\n",
      " CHAIN #5 : sampling finished [ 2500 / 2500 ], obtained 2500 samples in 42.20 seconds.\n",
      " CHAIN #6 : sampling finished [ 2500 / 2500 ], obtained 2500 samples in 42.29 seconds.\n",
      " CHAIN #7 : sampling finished [ 2500 / 2500 ], obtained 2500 samples in 42.99 seconds.\n",
      "\n",
      " *** SampleStep proceeding: iter #0 finished. *** \n",
      "\n",
      "\n",
      " *** StaticSample: iter #1, no more SampleStep. *** \n",
      "\n",
      "\n",
      " ***** SampleStep finished. ***** \n",
      "\n"
     ]
    },
    {
     "name": "stderr",
     "output_type": "stream",
     "text": [
      "/global/homes/h/hejia/.conda/envs/hejia@cori-3/lib/python3.8/site-packages/sklearn/decomposition/_fastica.py:118: ConvergenceWarning: FastICA did not converge. Consider increasing tolerance or the maximum number of iterations.\n",
      "  warnings.warn('FastICA did not converge. Consider increasing '\n",
      "/global/homes/h/hejia/.conda/envs/hejia@cori-3/lib/python3.8/site-packages/sklearn/decomposition/_fastica.py:118: ConvergenceWarning: FastICA did not converge. Consider increasing tolerance or the maximum number of iterations.\n",
      "  warnings.warn('FastICA did not converge. Consider increasing '\n",
      "/global/homes/h/hejia/.conda/envs/hejia@cori-3/lib/python3.8/site-packages/sklearn/decomposition/_fastica.py:118: ConvergenceWarning: FastICA did not converge. Consider increasing tolerance or the maximum number of iterations.\n",
      "  warnings.warn('FastICA did not converge. Consider increasing '\n",
      "/global/homes/h/hejia/.conda/envs/hejia@cori-3/lib/python3.8/site-packages/sklearn/decomposition/_fastica.py:118: ConvergenceWarning: FastICA did not converge. Consider increasing tolerance or the maximum number of iterations.\n",
      "  warnings.warn('FastICA did not converge. Consider increasing '\n",
      "/global/homes/h/hejia/.conda/envs/hejia@cori-3/lib/python3.8/site-packages/sklearn/decomposition/_fastica.py:118: ConvergenceWarning: FastICA did not converge. Consider increasing tolerance or the maximum number of iterations.\n",
      "  warnings.warn('FastICA did not converge. Consider increasing '\n",
      "/global/homes/h/hejia/.conda/envs/hejia@cori-3/lib/python3.8/site-packages/sklearn/decomposition/_fastica.py:118: ConvergenceWarning: FastICA did not converge. Consider increasing tolerance or the maximum number of iterations.\n",
      "  warnings.warn('FastICA did not converge. Consider increasing '\n",
      "/global/homes/h/hejia/.conda/envs/hejia@cori-3/lib/python3.8/site-packages/sklearn/decomposition/_fastica.py:118: ConvergenceWarning: FastICA did not converge. Consider increasing tolerance or the maximum number of iterations.\n",
      "  warnings.warn('FastICA did not converge. Consider increasing '\n",
      "/global/homes/h/hejia/.conda/envs/hejia@cori-3/lib/python3.8/site-packages/sklearn/decomposition/_fastica.py:118: ConvergenceWarning: FastICA did not converge. Consider increasing tolerance or the maximum number of iterations.\n",
      "  warnings.warn('FastICA did not converge. Consider increasing '\n"
     ]
    },
    {
     "name": "stdout",
     "output_type": "stream",
     "text": [
      "\n",
      " ***** PostStep finished. ***** \n",
      "\n"
     ]
    }
   ],
   "source": [
    "rec.run()"
   ]
  },
  {
   "cell_type": "code",
   "execution_count": 5,
   "metadata": {},
   "outputs": [
    {
     "data": {
      "text/plain": [
       "('samples',\n",
       " 'weights',\n",
       " 'weights_trunc',\n",
       " 'logp',\n",
       " 'logq',\n",
       " 'logz',\n",
       " 'logz_err',\n",
       " 'x_p',\n",
       " 'x_q',\n",
       " 'logp_p',\n",
       " 'logq_q',\n",
       " 'trace_p',\n",
       " 'trace_q',\n",
       " 'n_call',\n",
       " 'x_max',\n",
       " 'f_max')"
      ]
     },
     "execution_count": 5,
     "metadata": {},
     "output_type": "execute_result"
    }
   ],
   "source": [
    "rec.get()._fields"
   ]
  },
  {
   "cell_type": "code",
   "execution_count": 6,
   "metadata": {},
   "outputs": [
    {
     "data": {
      "text/plain": [
       "(-114.47258569257664, 0.06493140280021414)"
      ]
     },
     "execution_count": 6,
     "metadata": {},
     "output_type": "execute_result"
    }
   ],
   "source": [
    "rec.get().logz, rec.get().logz_err # fiducial value: logz = -114.492"
   ]
  },
  {
   "cell_type": "code",
   "execution_count": null,
   "metadata": {},
   "outputs": [],
   "source": []
  }
 ],
 "metadata": {
  "kernelspec": {
   "display_name": "hejia@cori-3",
   "language": "python",
   "name": "hejia-3"
  },
  "language_info": {
   "codemirror_mode": {
    "name": "ipython",
    "version": 3
   },
   "file_extension": ".py",
   "mimetype": "text/x-python",
   "name": "python",
   "nbconvert_exporter": "python",
   "pygments_lexer": "ipython3",
   "version": "3.8.5"
  }
 },
 "nbformat": 4,
 "nbformat_minor": 4
}
