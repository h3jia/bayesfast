{
 "cells": [
  {
   "cell_type": "markdown",
   "metadata": {},
   "source": [
    "# The 2-dim *Donut* example fitted at given points"
   ]
  },
  {
   "cell_type": "markdown",
   "metadata": {},
   "source": [
    "*last tested with bayesfast commit 8d6efa1*"
   ]
  },
  {
   "cell_type": "code",
   "execution_count": 1,
   "metadata": {},
   "outputs": [],
   "source": [
    "import numpy as np\n",
    "import bayesfast as bf\n",
    "from threadpoolctl import threadpool_limits\n",
    "threadpool_limits(1) # TODO: implement a bayesfast global thread controller\n",
    "\n",
    "single_ring = np.concatenate((\n",
    "    np.cos(np.pi * np.arange(0, 2, 0.25))[:, np.newaxis],\n",
    "    np.sin(np.pi * np.arange(0, 2, 0.25))[:, np.newaxis]), axis=-1)\n",
    "double_ring = np.concatenate((4 * single_ring, 5 * single_ring))"
   ]
  },
  {
   "cell_type": "code",
   "execution_count": 2,
   "metadata": {},
   "outputs": [],
   "source": [
    "a = 5\n",
    "b = 0.5\n",
    "\n",
    "def f_0(x):\n",
    "    return np.linalg.norm(x, 2, -1)\n",
    "\n",
    "def j_0(x):\n",
    "    '''not actually used'''\n",
    "    foo = x / np.linalg.norm(x, 2, -1)\n",
    "    return foo if np.all(np.isfinite(foo)) else np.ones_like(foo)\n",
    "\n",
    "def f_1(x):\n",
    "    return -(x - a)**2 / b\n",
    "\n",
    "def j_1(x):\n",
    "    return -2 * (x - a) / b"
   ]
  },
  {
   "cell_type": "code",
   "execution_count": 3,
   "metadata": {},
   "outputs": [],
   "source": [
    "bf.utils.random.set_generator(2) # set up the global random number generator\n",
    "bf.utils.parallel.set_backend(8) # set up the global parallel backend\n",
    "\n",
    "module_0 = bf.Module(fun=f_0, input_vars='x', output_vars='m')\n",
    "module_1 = bf.Module(fun=f_1, jac=j_1, input_vars='m', output_vars='logp')\n",
    "\n",
    "density_0 = bf.Density(module_list=[module_0, module_1], input_shapes=[2],\n",
    "                       input_vars='x', density_name='logp')\n",
    "density_0.set_decay_options(use_decay=True)\n",
    "\n",
    "# surro_0 = bf.modules.PolyModel('linear', input_size=2, output_size=1,\n",
    "#                                input_vars='x', output_vars='m')\n",
    "surro_1 = bf.modules.PolyModel('quadratic', input_size=2, output_size=1,\n",
    "                               input_vars='x', output_vars='m')\n",
    "surro_1.set_bound_options(use_bound=False)\n",
    "\n",
    "# x_0 = bf.utils.sobol.multivariate_normal([10, 10], np.eye(2), 20)\n",
    "\n",
    "sample_trace = {'n_chain': 8, 'n_iter': 1000, 'n_warmup': 500}\n",
    "\n",
    "# opt_0 = bf.recipe.OptimizeStep(surrogate_list=surro_0, x_0=x_0,\n",
    "#                                sample_trace=sample_trace)\n",
    "sam_0 = bf.recipe.SampleStep(surrogate_list=surro_1, alpha_n=-1,\n",
    "                             x_0=double_ring, sample_trace=sample_trace,\n",
    "                             logp_cutoff=False)\n",
    "# sam_1 = bf.recipe.SampleStep(surrogate_list=surro_1, alpha_n=5, reuse_samples=1,\n",
    "#                              sample_trace=sample_trace, logp_cutoff=False)\n",
    "\n",
    "rec_0 = bf.recipe.Recipe(density=density_0, sample=sam_0)"
   ]
  },
  {
   "cell_type": "code",
   "execution_count": 4,
   "metadata": {},
   "outputs": [
    {
     "name": "stdout",
     "output_type": "stream",
     "text": [
      "\n",
      " *** StaticSample: returning the #0 SampleStep. *** \n",
      "\n",
      " CHAIN #0 : sampling proceeding [ 200 / 1000 ], last 200 samples used 2.63 seconds. (warmup)\n",
      " CHAIN #5 : sampling proceeding [ 200 / 1000 ], last 200 samples used 2.53 seconds. (warmup)\n",
      " CHAIN #3 : sampling proceeding [ 200 / 1000 ], last 200 samples used 2.73 seconds. (warmup)\n",
      " CHAIN #4 : sampling proceeding [ 200 / 1000 ], last 200 samples used 2.85 seconds. (warmup)\n",
      " CHAIN #6 : sampling proceeding [ 200 / 1000 ], last 200 samples used 2.82 seconds. (warmup)\n",
      " CHAIN #2 : sampling proceeding [ 200 / 1000 ], last 200 samples used 2.92 seconds. (warmup)\n",
      " CHAIN #7 : sampling proceeding [ 200 / 1000 ], last 200 samples used 2.98 seconds. (warmup)\n",
      " CHAIN #1 : sampling proceeding [ 200 / 1000 ], last 200 samples used 3.16 seconds. (warmup)\n",
      " CHAIN #1 : sampling proceeding [ 400 / 1000 ], last 200 samples used 1.96 seconds. (warmup)\n",
      " CHAIN #4 : sampling proceeding [ 400 / 1000 ], last 200 samples used 2.33 seconds. (warmup)\n",
      " CHAIN #5 : sampling proceeding [ 400 / 1000 ], last 200 samples used 2.74 seconds. (warmup)\n",
      " CHAIN #3 : sampling proceeding [ 400 / 1000 ], last 200 samples used 2.60 seconds. (warmup)\n",
      " CHAIN #6 : sampling proceeding [ 400 / 1000 ], last 200 samples used 2.57 seconds. (warmup)\n",
      " CHAIN #0 : sampling proceeding [ 400 / 1000 ], last 200 samples used 2.95 seconds. (warmup)\n",
      " CHAIN #2 : sampling proceeding [ 400 / 1000 ], last 200 samples used 2.64 seconds. (warmup)\n",
      " CHAIN #7 : sampling proceeding [ 400 / 1000 ], last 200 samples used 2.56 seconds. (warmup)\n",
      " CHAIN #1 : sampling proceeding [ 600 / 1000 ], last 200 samples used 2.20 seconds.\n",
      " CHAIN #3 : sampling proceeding [ 600 / 1000 ], last 200 samples used 2.35 seconds.\n",
      " CHAIN #0 : sampling proceeding [ 600 / 1000 ], last 200 samples used 2.25 seconds.\n",
      " CHAIN #6 : sampling proceeding [ 600 / 1000 ], last 200 samples used 2.27 seconds.\n",
      " CHAIN #7 : sampling proceeding [ 600 / 1000 ], last 200 samples used 2.22 seconds.\n",
      " CHAIN #4 : sampling proceeding [ 600 / 1000 ], last 200 samples used 2.77 seconds.\n",
      " CHAIN #5 : sampling proceeding [ 600 / 1000 ], last 200 samples used 3.23 seconds.\n",
      " CHAIN #2 : sampling proceeding [ 600 / 1000 ], last 200 samples used 3.09 seconds.\n",
      " CHAIN #6 : sampling proceeding [ 800 / 1000 ], last 200 samples used 2.39 seconds.\n",
      " CHAIN #0 : sampling proceeding [ 800 / 1000 ], last 200 samples used 2.52 seconds.\n",
      " CHAIN #1 : sampling proceeding [ 800 / 1000 ], last 200 samples used 3.01 seconds.\n",
      " CHAIN #3 : sampling proceeding [ 800 / 1000 ], last 200 samples used 2.73 seconds.\n",
      " CHAIN #7 : sampling proceeding [ 800 / 1000 ], last 200 samples used 2.84 seconds.\n",
      " CHAIN #4 : sampling proceeding [ 800 / 1000 ], last 200 samples used 2.72 seconds.\n",
      " CHAIN #5 : sampling proceeding [ 800 / 1000 ], last 200 samples used 2.71 seconds.\n",
      " CHAIN #2 : sampling proceeding [ 800 / 1000 ], last 200 samples used 2.91 seconds.\n",
      " CHAIN #1 : sampling finished [ 1000 / 1000 ], obtained 1000 samples in 12.83 seconds.\n",
      " CHAIN #3 : sampling finished [ 1000 / 1000 ], obtained 1000 samples in 12.88 seconds.\n",
      " CHAIN #0 : sampling finished [ 1000 / 1000 ], obtained 1000 samples in 13.20 seconds.\n",
      " CHAIN #7 : sampling finished [ 1000 / 1000 ], obtained 1000 samples in 13.33 seconds.\n",
      " CHAIN #6 : sampling finished [ 1000 / 1000 ], obtained 1000 samples in 13.37 seconds.\n",
      " CHAIN #4 : sampling finished [ 1000 / 1000 ], obtained 1000 samples in 13.64 seconds.\n",
      " CHAIN #5 : sampling finished [ 1000 / 1000 ], obtained 1000 samples in 13.92 seconds.\n",
      " CHAIN #2 : sampling finished [ 1000 / 1000 ], obtained 1000 samples in 14.03 seconds.\n",
      "\n",
      " *** SampleStep proceeding: iter #0 finished. *** \n",
      "\n",
      "\n",
      " *** StaticSample: iter #1, no more SampleStep. *** \n",
      "\n",
      "\n",
      " ***** SampleStep finished. ***** \n",
      "\n",
      "\n",
      " ***** PostStep finished. ***** \n",
      "\n"
     ]
    },
    {
     "name": "stderr",
     "output_type": "stream",
     "text": [
      "/global/u2/h/hejia/bayesfast/bayesfast/core/recipe.py:1328: RuntimeWarning: as of now, n_call does not take the possible logp calls during evidence evaluation into account.\n",
      "  warnings.warn('as of now, n_call does not take the possible logp '\n"
     ]
    }
   ],
   "source": [
    "rec_0.run()"
   ]
  },
  {
   "cell_type": "code",
   "execution_count": 5,
   "metadata": {},
   "outputs": [
    {
     "data": {
      "text/plain": [
       "('samples',\n",
       " 'weights',\n",
       " 'weights_trunc',\n",
       " 'logp',\n",
       " 'logq',\n",
       " 'logz',\n",
       " 'logz_err',\n",
       " 'x_p',\n",
       " 'x_q',\n",
       " 'logp_p',\n",
       " 'logq_q',\n",
       " 'trace_p',\n",
       " 'trace_q',\n",
       " 'n_call',\n",
       " 'x_max',\n",
       " 'f_max')"
      ]
     },
     "execution_count": 5,
     "metadata": {},
     "output_type": "execute_result"
    }
   ],
   "source": [
    "rec_0.get()._fields"
   ]
  },
  {
   "cell_type": "code",
   "execution_count": 6,
   "metadata": {},
   "outputs": [
    {
     "name": "stdout",
     "output_type": "stream",
     "text": [
      "Removed no burn in\n"
     ]
    },
    {
     "data": {
      "image/png": "[encoded data removed]",
      "text/plain": [
       "<Figure size 288x288 with 1 Axes>"
      ]
     },
     "metadata": {
      "needs_background": "light"
     },
     "output_type": "display_data"
    }
   ],
   "source": [
    "%matplotlib inline\n",
    "from getdist import plots, MCSamples\n",
    "import matplotlib.pyplot as plt\n",
    "\n",
    "g = plots.get_single_plotter(width_inch=4, ratio=1)\n",
    "sa = MCSamples(samples=rec_0.get().samples,\n",
    "               names=['x', 'y'], labels=['x', 'y'])\n",
    "g.plot_2d(sa, 'x', 'y', filled=True)\n",
    "\n",
    "plt.show()"
   ]
  },
  {
   "cell_type": "code",
   "execution_count": null,
   "metadata": {},
   "outputs": [],
   "source": []
  }
 ],
 "metadata": {
  "kernelspec": {
   "display_name": "hejia@cori-3",
   "language": "python",
   "name": "hejia-3"
  },
  "language_info": {
   "codemirror_mode": {
    "name": "ipython",
    "version": 3
   },
   "file_extension": ".py",
   "mimetype": "text/x-python",
   "name": "python",
   "nbconvert_exporter": "python",
   "pygments_lexer": "ipython3",
   "version": "3.8.5"
  }
 },
 "nbformat": 4,
 "nbformat_minor": 4
}
